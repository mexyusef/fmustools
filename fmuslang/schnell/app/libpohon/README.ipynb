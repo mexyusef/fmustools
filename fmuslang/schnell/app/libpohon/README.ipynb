{
 "cells": [
  {
   "cell_type": "code",
   "execution_count": 1,
   "metadata": {},
   "outputs": [],
   "source": [
    "import json"
   ]
  },
  {
   "cell_type": "code",
   "execution_count": 2,
   "metadata": {},
   "outputs": [],
   "source": [
    "# tujuan\n",
    "# dari hasil columnify, pengen bikin model[nama] = attrs/constraints\n",
    "\n",
    "a = ['satu', 'dua', 'tiga', 'empat']\n",
    "b = [\n",
    "  ['type=string', 'null=false', 'default=1'],\n",
    "  ['type=string', 'null=false', 'default=2'],\n",
    "  ['type=string', 'null=false', 'default=3'],\n",
    "  ['type=string', 'null=false', 'default=4'],\n",
    "]\n"
   ]
  },
  {
   "cell_type": "code",
   "execution_count": 4,
   "metadata": {},
   "outputs": [
    {
     "data": {
      "text/plain": [
       "['type=string, null=false, default=1',\n",
       " 'type=string, null=false, default=2',\n",
       " 'type=string, null=false, default=3',\n",
       " 'type=string, null=false, default=4']"
      ]
     },
     "execution_count": 4,
     "metadata": {},
     "output_type": "execute_result"
    }
   ],
   "source": [
    "[', '.join(item) for item in b]"
   ]
  },
  {
   "cell_type": "code",
   "execution_count": 5,
   "metadata": {},
   "outputs": [],
   "source": [
    "c = [', '.join(item) for item in b]"
   ]
  },
  {
   "cell_type": "code",
   "execution_count": 3,
   "metadata": {},
   "outputs": [
    {
     "data": {
      "text/plain": [
       "{'satu': ['type=string', 'null=false', 'default=1'],\n",
       " 'dua': ['type=string', 'null=false', 'default=2'],\n",
       " 'tiga': ['type=string', 'null=false', 'default=3'],\n",
       " 'empat': ['type=string', 'null=false', 'default=4']}"
      ]
     },
     "execution_count": 3,
     "metadata": {},
     "output_type": "execute_result"
    }
   ],
   "source": [
    "dict(zip(a, b))"
   ]
  },
  {
   "cell_type": "code",
   "execution_count": 6,
   "metadata": {},
   "outputs": [
    {
     "data": {
      "text/plain": [
       "{'satu': 'type=string, null=false, default=1',\n",
       " 'dua': 'type=string, null=false, default=2',\n",
       " 'tiga': 'type=string, null=false, default=3',\n",
       " 'empat': 'type=string, null=false, default=4'}"
      ]
     },
     "execution_count": 6,
     "metadata": {},
     "output_type": "execute_result"
    }
   ],
   "source": [
    "dict(zip(a, c))"
   ]
  },
  {
   "cell_type": "code",
   "execution_count": null,
   "metadata": {},
   "outputs": [],
   "source": []
  }
 ],
 "metadata": {
  "interpreter": {
   "hash": "f9f85f796d01129d0dd105a088854619f454435301f6ffec2fea96ecbd9be4ac"
  },
  "kernelspec": {
   "display_name": "Python 3.9.5 64-bit",
   "language": "python",
   "name": "python3"
  },
  "language_info": {
   "codemirror_mode": {
    "name": "ipython",
    "version": 3
   },
   "file_extension": ".py",
   "mimetype": "text/x-python",
   "name": "python",
   "nbconvert_exporter": "python",
   "pygments_lexer": "ipython3",
   "version": "3.9.5"
  },
  "orig_nbformat": 4
 },
 "nbformat": 4,
 "nbformat_minor": 2
}
